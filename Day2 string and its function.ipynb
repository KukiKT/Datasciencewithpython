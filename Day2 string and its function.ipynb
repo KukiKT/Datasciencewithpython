{
 "cells": [
  {
   "cell_type": "code",
   "execution_count": 1,
   "id": "9b6c51c4",
   "metadata": {},
   "outputs": [
    {
     "data": {
      "text/plain": [
       "7"
      ]
     },
     "execution_count": 1,
     "metadata": {},
     "output_type": "execute_result"
    }
   ],
   "source": [
    "a='srushti'\n",
    "len(a)"
   ]
  },
  {
   "cell_type": "code",
   "execution_count": 2,
   "id": "617aab4a",
   "metadata": {},
   "outputs": [
    {
     "data": {
      "text/plain": [
       "'i'"
      ]
     },
     "execution_count": 2,
     "metadata": {},
     "output_type": "execute_result"
    }
   ],
   "source": [
    "a[-1]"
   ]
  },
  {
   "cell_type": "code",
   "execution_count": 3,
   "id": "eaa5312b",
   "metadata": {},
   "outputs": [
    {
     "data": {
      "text/plain": [
       "'s'"
      ]
     },
     "execution_count": 3,
     "metadata": {},
     "output_type": "execute_result"
    }
   ],
   "source": [
    "a[0]"
   ]
  },
  {
   "cell_type": "code",
   "execution_count": 5,
   "id": "0f877726",
   "metadata": {},
   "outputs": [
    {
     "data": {
      "text/plain": [
       "'u'"
      ]
     },
     "execution_count": 5,
     "metadata": {},
     "output_type": "execute_result"
    }
   ],
   "source": [
    "a[2]"
   ]
  },
  {
   "cell_type": "code",
   "execution_count": 7,
   "id": "ebae00d0",
   "metadata": {},
   "outputs": [
    {
     "data": {
      "text/plain": [
       "'SRUSHTI'"
      ]
     },
     "execution_count": 7,
     "metadata": {},
     "output_type": "execute_result"
    }
   ],
   "source": [
    "a.upper()"
   ]
  },
  {
   "cell_type": "code",
   "execution_count": 8,
   "id": "2a9a1259",
   "metadata": {},
   "outputs": [
    {
     "data": {
      "text/plain": [
       "'srushti'"
      ]
     },
     "execution_count": 8,
     "metadata": {},
     "output_type": "execute_result"
    }
   ],
   "source": [
    "a.lower()"
   ]
  },
  {
   "cell_type": "code",
   "execution_count": 9,
   "id": "f4b2ee07",
   "metadata": {},
   "outputs": [
    {
     "data": {
      "text/plain": [
       "'truthti'"
      ]
     },
     "execution_count": 9,
     "metadata": {},
     "output_type": "execute_result"
    }
   ],
   "source": [
    "a.replace('s','t')"
   ]
  },
  {
   "cell_type": "code",
   "execution_count": 10,
   "id": "f45295f2",
   "metadata": {},
   "outputs": [
    {
     "data": {
      "text/plain": [
       "2"
      ]
     },
     "execution_count": 10,
     "metadata": {},
     "output_type": "execute_result"
    }
   ],
   "source": [
    "a.count('s')#To count the char"
   ]
  },
  {
   "cell_type": "code",
   "execution_count": 12,
   "id": "0eb3d725",
   "metadata": {},
   "outputs": [
    {
     "data": {
      "text/plain": [
       "2"
      ]
     },
     "execution_count": 12,
     "metadata": {},
     "output_type": "execute_result"
    }
   ],
   "source": [
    "a.find('u') # To find the index number"
   ]
  },
  {
   "cell_type": "code",
   "execution_count": 13,
   "id": "98aedf53",
   "metadata": {},
   "outputs": [
    {
     "data": {
      "text/plain": [
       "['', 'ru', 'hti']"
      ]
     },
     "execution_count": 13,
     "metadata": {},
     "output_type": "execute_result"
    }
   ],
   "source": [
    "a.split('s')"
   ]
  },
  {
   "cell_type": "code",
   "execution_count": 14,
   "id": "a18435b7",
   "metadata": {},
   "outputs": [
    {
     "data": {
      "text/plain": [
       "['sr', 'shti']"
      ]
     },
     "execution_count": 14,
     "metadata": {},
     "output_type": "execute_result"
    }
   ],
   "source": [
    "a.split('u')"
   ]
  },
  {
   "cell_type": "code",
   "execution_count": 1,
   "id": "54906ccf",
   "metadata": {},
   "outputs": [],
   "source": [
    "x='ashish'#memership operater =in ,not in\n",
    "y=\"a\""
   ]
  },
  {
   "cell_type": "code",
   "execution_count": 2,
   "id": "e6508a3b",
   "metadata": {},
   "outputs": [
    {
     "name": "stdout",
     "output_type": "stream",
     "text": [
      "True\n"
     ]
    }
   ],
   "source": [
    "print(y in x)"
   ]
  },
  {
   "cell_type": "code",
   "execution_count": 3,
   "id": "d544e4b2",
   "metadata": {},
   "outputs": [
    {
     "name": "stdout",
     "output_type": "stream",
     "text": [
      "False\n"
     ]
    }
   ],
   "source": [
    "print(y not in x)"
   ]
  },
  {
   "cell_type": "code",
   "execution_count": null,
   "id": "ce667010",
   "metadata": {},
   "outputs": [],
   "source": []
  }
 ],
 "metadata": {
  "kernelspec": {
   "display_name": "Python 3 (ipykernel)",
   "language": "python",
   "name": "python3"
  },
  "language_info": {
   "codemirror_mode": {
    "name": "ipython",
    "version": 3
   },
   "file_extension": ".py",
   "mimetype": "text/x-python",
   "name": "python",
   "nbconvert_exporter": "python",
   "pygments_lexer": "ipython3",
   "version": "3.9.7"
  }
 },
 "nbformat": 4,
 "nbformat_minor": 5
}
